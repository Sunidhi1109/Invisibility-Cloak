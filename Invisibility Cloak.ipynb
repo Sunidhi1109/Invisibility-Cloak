{
 "cells": [
  {
   "cell_type": "code",
   "execution_count": 4,
   "metadata": {},
   "outputs": [
    {
     "ename": "KeyboardInterrupt",
     "evalue": "",
     "output_type": "error",
     "traceback": [
      "\u001b[1;31m---------------------------------------------------------------------------\u001b[0m",
      "\u001b[1;31mKeyboardInterrupt\u001b[0m                         Traceback (most recent call last)",
      "\u001b[1;32m<ipython-input-4-5f05146bb899>\u001b[0m in \u001b[0;36m<module>\u001b[1;34m\u001b[0m\n\u001b[0;32m     39\u001b[0m \u001b[1;33m\u001b[0m\u001b[0m\n\u001b[0;32m     40\u001b[0m     \u001b[0mcv2\u001b[0m\u001b[1;33m.\u001b[0m\u001b[0mimshow\u001b[0m\u001b[1;33m(\u001b[0m\u001b[1;34m'EUREKA !!'\u001b[0m\u001b[1;33m,\u001b[0m \u001b[0mfinal_output\u001b[0m\u001b[1;33m)\u001b[0m\u001b[1;33m\u001b[0m\u001b[1;33m\u001b[0m\u001b[0m\n\u001b[1;32m---> 41\u001b[1;33m     \u001b[0mk\u001b[0m \u001b[1;33m=\u001b[0m \u001b[0mcv2\u001b[0m\u001b[1;33m.\u001b[0m\u001b[0mwaitKey\u001b[0m\u001b[1;33m(\u001b[0m\u001b[1;36m10\u001b[0m\u001b[1;33m)\u001b[0m\u001b[1;33m\u001b[0m\u001b[1;33m\u001b[0m\u001b[0m\n\u001b[0m\u001b[0;32m     42\u001b[0m     \u001b[1;32mif\u001b[0m \u001b[0mk\u001b[0m \u001b[1;33m==\u001b[0m \u001b[1;36m27\u001b[0m\u001b[1;33m:\u001b[0m\u001b[1;33m\u001b[0m\u001b[1;33m\u001b[0m\u001b[0m\n\u001b[0;32m     43\u001b[0m         \u001b[1;32mbreak\u001b[0m\u001b[1;33m\u001b[0m\u001b[1;33m\u001b[0m\u001b[0m\n",
      "\u001b[1;31mKeyboardInterrupt\u001b[0m: "
     ]
    }
   ],
   "source": [
    "#import libraries\n",
    "import numpy as np\n",
    "import cv2\n",
    "import time\n",
    "cap=cv2.VideoCapture(0)#This is the videocapture object 0 is the no of the webcam,object is just call the webcam or to know that which webcam are we using\n",
    "time.sleep(2)#we have given these 2 secto the camera to set itself according to the env\n",
    "background = 0#this is the background wall or the bed\n",
    "#Capturing the background\n",
    "for i in range(30):\n",
    "    ret,background = cap.read()#returns 2 things ie image and true or false(means we need to forcefully open the )\n",
    "\n",
    "while(cap.isOpened()):\n",
    "    ret,img = cap.read()#capturing image\n",
    "    if not ret:\n",
    "        break\n",
    "    hsv = cv2.cvtColor(img, cv2.COLOR_BGR2HSV)#HSB hue saturation brightness\n",
    "    #HSV values\n",
    "    lower_red = np.array([0, 120, 70])\n",
    "    upper_red = np.array([10, 255, 255])\n",
    "    mask1 = cv2.inRange(hsv, lower_red, upper_red)#seperating the cloak part\n",
    "    \n",
    "    lower_red = np.array([170, 120, 70])\n",
    "    upper_red = np.array([180, 255, 255])\n",
    "    mask2 = cv2.inRange(hsv, lower_red, upper_red)\n",
    "    \n",
    "    mask = mask1 + mask2 \n",
    "    \n",
    "    mask1 = cv2.morphologyEx(mask1, cv2.MORPH_OPEN,\n",
    "                            np.ones((3, 3), np.uint8), iterations=2)#for removng the noise\n",
    "    mask2 = cv2.morphologyEx(mask1, cv2.MORPH_DILATE,\n",
    "                            np.ones((3, 3), np.uint8), iterations=1)#for smoother image\n",
    "    \n",
    "    mask2 = cv2.bitwise_not(mask1)#except the cloak\n",
    "    \n",
    "    res1 = cv2.bitwise_and(background,background, mask=mask1)#used for the segmentation of the colors\n",
    "    res2 = cv2.bitwise_and(img, img, mask=mask2)#used to substitute the cloak part\n",
    "    final_output = cv2.addWeighted(res1, 1, res2, 1, 0)\n",
    "    \n",
    "    \n",
    "    cv2.imshow('EUREKA !!', final_output)\n",
    "    k = cv2.waitKey(10)\n",
    "    if k == 27:\n",
    "        break\n",
    "cap.release()\n",
    "cv2.destroyAllWindows()"
   ]
  },
  {
   "cell_type": "code",
   "execution_count": null,
   "metadata": {},
   "outputs": [],
   "source": []
  }
 ],
 "metadata": {
  "kernelspec": {
   "display_name": "Python 3",
   "language": "python",
   "name": "python3"
  },
  "language_info": {
   "codemirror_mode": {
    "name": "ipython",
    "version": 3
   },
   "file_extension": ".py",
   "mimetype": "text/x-python",
   "name": "python",
   "nbconvert_exporter": "python",
   "pygments_lexer": "ipython3",
   "version": "3.8.3"
  }
 },
 "nbformat": 4,
 "nbformat_minor": 4
}
